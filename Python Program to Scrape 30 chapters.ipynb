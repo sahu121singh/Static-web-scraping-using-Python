{
 "cells": [
  {
   "cell_type": "code",
   "execution_count": 1,
   "metadata": {
    "ExecuteTime": {
     "end_time": "2021-03-14T14:04:48.979926Z",
     "start_time": "2021-03-14T14:04:48.726130Z"
    }
   },
   "outputs": [],
   "source": [
    "import requests          # module use for send HTTP requests\n",
    "from bs4 import BeautifulSoup  # parsing HTML documents\n",
    "import json"
   ]
  },
  {
   "cell_type": "markdown",
   "metadata": {},
   "source": [
    "# checking for web scrape for chapter 1"
   ]
  },
  {
   "cell_type": "markdown",
   "metadata": {},
   "source": [
    "### GET request"
   ]
  },
  {
   "cell_type": "code",
   "execution_count": 2,
   "metadata": {
    "ExecuteTime": {
     "end_time": "2021-03-14T14:04:50.211186Z",
     "start_time": "2021-03-14T14:04:48.982926Z"
    }
   },
   "outputs": [
    {
     "data": {
      "text/plain": [
       "200"
      ]
     },
     "execution_count": 2,
     "metadata": {},
     "output_type": "execute_result"
    }
   ],
   "source": [
    "# get() method sends a GET request to the specified url and returns a response\n",
    "response = requests.get(\"https://novelfull.com/warriors-promise/chapter-1.html\")\n",
    "#page\n",
    "response.status_code"
   ]
  },
  {
   "cell_type": "markdown",
   "metadata": {},
   "source": [
    "### display respose content (in html form)"
   ]
  },
  {
   "cell_type": "code",
   "execution_count": 3,
   "metadata": {
    "ExecuteTime": {
     "end_time": "2021-03-14T14:04:50.242069Z",
     "start_time": "2021-03-14T14:04:50.216138Z"
    }
   },
   "outputs": [
    {
     "data": {
      "text/plain": [
       "b'\\r\\n<!DOCTYPE html><html lang=\"en-US\"><head><meta http-equiv=\"Content-Type\" content=\"text/html; charset=UTF-8\"/><meta http-equiv=\"X-UA-Compatible\" content=\"IE=edge\"><meta name=\"viewport\"\\n              content=\"width=device-width, height=device-height, initial-scale=1.0, user-scalable=0, minimum-scale=1.0, maximum-scale=1.0\"><meta name=\"csrf-param\" content=\"_csrf\"><meta name=\"csrf-token\" content=\"NjM2NGQzZjBmNDk1YjZhYjlkY2Y4ZDNiNWM2ZTBiMDEAAAAAAAAAAAAAAAAAAAAAAAAAAAAAAAAAAAAAAAAAAA==\"><!-- TODO: Meta --><meta name=\"title\" content=\"Read Warrior\\xe2\\x80\\x99s Promise - Chapter 1 online free - Novel Full\"><meta name=\"description\" content=\"Read Warrior\\xe2\\x80\\x99s Promise - Chapter 1 online free from your Mobile, Table, PC... Novel Updates Daily \"><meta name=\"image\" content=\"https://novelfull.com/uploads/thumbs/warriors-promise-568d11545d-2239c49aee6b961904acf173b7e4602a.jpg\"><meta name=\"keywords\" content=\"Warrior\\xe2\\x80\\x99s Promise - Chapter 1\"><title>Read Warrior\\xe2\\x80\\x99s Promise - Chapter 1 online free - Novel Full</title><link rel=\"preload\" href=\"/web/fonts/RobotoCondensed-Regular.woff\" as=\"font\" crossorigin=\"anonymous\" /><link rel=\"preload\" href=\"/web/fonts/glyphicons-halflings-regular.woff2\" as=\"font\" crossorigin=\"anonymous\" /><link rel=\"shortcut icon\" href=\"/web/images/favicon.ico\" type=\"image/x-icon\"><link rel=\"icon\" href=\"/web/images/favicon.ico\" type=\"image/x-icon\"><!--[if lt IE 9]><link rel=\"stylesheet\" href=\"/web/css/iefix.css\"><script defer src=\"/web/js/html5shiv.min.js\"></script><script defer src=\"/web/js/respond.min.js\"></script><![endif]--><script type=\"text/javascript\">\\n            var adblock = true;\\n            var ajaxSearchUrl = \\'https://novelfull.com/ajax-search\\';\\n            var ajaxNovelRateUrl = \\'https://novelfull.com/ajax-novel-rate\\';\\n            var ajaxReportChapterUrl = \\'https://novelfull.com/ajax-report-chapter\\';\\n            var ajaxUserSettingsUrl = \\'https://novelfull.com/ajax-user-settings\\';\\n            var ajaxChapterOptionUrl = \\'https://novelfull.com/ajax-chapter-option\\';\\n        </script><!-- <script type=\"text/javascript\" src=\"/web/js/adframe.js?v=1\"></script> --><script type=\"text/javascript\" src=\"/web/js/plugins.js\"></script><script type=\"text/javascript\" src=\"/web/js/scripts.js\"></script><!-- TODO: ExtraScript --><script type=\"text/javascript\">\\r\\n        $(document).ready(function() {\\r\\n            $navBar = $(\\'.toggle-nav-open\\');\\r\\n            $navBar.on(\\'click\\', function() {\\r\\n                var open = $(this).hasClass(\\'active\\') ? \\'close\\' : \\'open\\';\\r\\n                changeStyle(\\'nav-bar\\', open);\\r\\n                saveStyle(\\'nav-bar\\', open);\\r\\n                $(\\'header\\').toggle();\\r\\n                $(\\'.navbar-breadcrumb\\').toggle();\\r\\n            });\\r\\n\\r\\n            // Key for the chapter navigation\\r\\n            $nextChap = $(\\'#next_chap\\');\\r\\n            $prevChap = $(\\'#prev_chap\\');\\r\\n            $(document).keydown(function (e) {\\r\\n                var tag = e.target.tagName.toLowerCase();\\r\\n                if (tag == \\'input\\' || tag == \\'textarea\\') return;\\r\\n\\r\\n                var keypress = e.charCode ? e.charCode : e.keyCode;\\r\\n                if (keypress == 39 || keypress == 68) {\\r\\n                    if (!$nextChap.attr(\\'disabled\\')) {\\r\\n                        window.location = $nextChap.attr(\\'href\\');\\r\\n                    }\\r\\n                } else if (keypress == 37 || keypress == 65) {\\r\\n                    if (!$prevChap.attr(\\'disabled\\')) {\\r\\n                        window.location = $prevChap.attr(\\'href\\');\\r\\n                    }\\r\\n                }\\r\\n            });\\r\\n\\r\\n            // TODO: Theme\\r\\n            $container = $(\\'#container\\');\\r\\n            $chapter = $(\\'#chapter\\');\\r\\n            $chapterContent = $(\\'#chapter-content\\');\\r\\n            var chapterContent = $chapterContent.html();\\r\\n            $options = $(\\'#options\\');\\r\\n            $options.show();\\r\\n            $optionBackground = $(\\'#option-background\\');\\r\\n            $optionFontFamily = $(\\'#option-font-family\\');\\r\\n            $optionFontSize = $(\\'#option-font-size\\');\\r\\n            $optionLineHeight = $(\\'#option-line-height\\');\\r\\n            $optionFluidSwitch = $(\\'input[type=radio][name=fluid-switch]\\');\\r\\n            $optionNoLineBreak = $(\\'input[type=radio][name=onebreak-switch]\\');\\r\\n            $optionBackground.on(\\'change\\', function() {\\r\\n                changeStyle(\\'background\\', $(this).val());\\r\\n                saveStyle(\\'background\\', $(this).val());\\r\\n            });\\r\\n            $optionFontFamily.on(\\'change\\', function() {\\r\\n                changeStyle(\\'font-family\\', $(this).val());\\r\\n                saveStyle(\\'font-family\\', $(this).val());\\r\\n            });\\r\\n            $optionFontSize.on(\\'change\\', function() {\\r\\n                changeStyle(\\'font-size\\', $(this).val());\\r\\n                saveStyle(\\'font-size\\', $(this).val());\\r\\n            });\\r\\n            $optionLineHeight.on(\\'change\\', function() {\\r\\n                changeStyle(\\'line-height\\', $(this).val());\\r\\n                saveStyle(\\'line-height\\', $(this).val());\\r\\n            });\\r\\n            $optionFluidSwitch.on(\\'change\\', function() {\\r\\n                changeStyle(\\'fluid-switch\\', $(this).val());\\r\\n                saveStyle(\\'fluid-switch\\', $(this).val());\\r\\n            });\\r\\n            $optionNoLineBreak.on(\\'change\\', function() {\\r\\n                changeStyle(\\'onebreak-switch\\', $(this).val());\\r\\n                saveStyle(\\'onebreak-switch\\', $(this).val());\\r\\n            });\\r\\n\\r\\n            function changeStyle(style, value) {\\r\\n                if (!value) return;\\r\\n                switch (style) {\\r\\n                    case \"background\":\\r\\n                        $container.css(\\'background-color\\', value);\\r\\n                        if (value == \\'#232323\\') {\\r\\n                            $container.addClass(\\'dark-background\\');\\r\\n                        } else {\\r\\n                            $container.removeClass(\\'dark-background\\');\\r\\n                        }\\r\\n                        break;\\r\\n                    case \"font-family\":\\r\\n                        $chapterContent.css(\\'font-family\\', value);\\r\\n                        break;\\r\\n                    case \"font-size\":\\r\\n                        $chapterContent.css(\\'font-size\\', value);\\r\\n                        break;\\r\\n                    case \"line-height\":\\r\\n                        $chapterContent.css(\\'line-height\\', value);\\r\\n                        break;\\r\\n                    case \"nav-bar\":\\r\\n                        if ( value == \\'open\\' ) {\\r\\n                            $(\\'body\\').addClass(\\'toggleNav\\');\\r\\n                            $(\\'#container\\').addClass(\\'active\\');\\r\\n                            $navBar.find(\\'.glyphicon\\').removeClass(\\'glyphicon-menu-up\\').addClass(\\'glyphicon-menu-down\\');\\r\\n                            $navBar.addClass(\\'active\\');\\r\\n                        } else {\\r\\n                            $navBar.removeClass(\\'active\\');\\r\\n                            $(\\'#container\\').removeClass(\\'active\\');\\r\\n                            $navBar.find(\\'.glyphicon\\').removeClass(\\'glyphicon-menu-down\\').addClass(\\'glyphicon-menu-up\\');\\r\\n                            $(\\'body\\').removeClass(\\'toggleNav\\');\\r\\n                        }\\r\\n                        break;\\r\\n                    case \"fluid-switch\":\\r\\n                        if (value == \\'yes\\') {\\r\\n                            $chapter.removeClass(\\'container\\');\\r\\n                            $chapter.addClass(\\'container-fluid\\');\\r\\n                        } else {\\r\\n                            $chapter.addClass(\\'container\\');\\r\\n                            $chapter.removeClass(\\'container-fluid\\');\\r\\n                        }\\r\\n                        break;\\r\\n                    case \"onebreak-switch\":\\r\\n                        if (value == \\'yes\\') {\\r\\n                            $chapterContent.html(removeLineBreak($chapterContent.html()));\\r\\n                        } else {\\r\\n                            $chapterContent.html(addLineBreak(chapterContent));\\r\\n                        }\\r\\n                        break;\\r\\n                }\\r\\n            }\\r\\n\\r\\n            function saveStyle(style, value) {\\r\\n                // Save to cookies\\r\\n                var chapterStyle = getStyle();\\r\\n\\r\\n                switch (style) {\\r\\n                    case \"background\":\\r\\n                        chapterStyle.background = value;\\r\\n                        break;\\r\\n                    case \"font-family\":\\r\\n                        chapterStyle.fontFamily = value;\\r\\n                        break;\\r\\n                    case \"font-size\":\\r\\n                        chapterStyle.fontSize = value;\\r\\n                        break;\\r\\n                    case \"line-height\":\\r\\n                        chapterStyle.lineHeight = value;\\r\\n                        break;\\r\\n                    case \"nav-bar\":\\r\\n                        chapterStyle.navBar = value;\\r\\n                        break;\\r\\n                    case \"fluid-switch\":\\r\\n                        chapterStyle.fluidSwitch = value;\\r\\n                        break;\\r\\n                    case \"onebreak-switch\":\\r\\n                        chapterStyle.onebreakSwitch = value;\\r\\n                        break;\\r\\n                }\\r\\n                var expDate = new Date();\\r\\n                expDate.setTime(expDate.getTime() + (7 * 24 * 60 * 60 * 1000));\\r\\n                $.cookie(\"chapter_style\", JSON.stringify(chapterStyle), {path: \\'/\\', expires: expDate});\\r\\n                var settings = {\\r\\n                    style: chapterStyle\\r\\n                };\\r\\n                $.ajax({\\r\\n                    method: \"POST\",\\r\\n                    url: ajaxUserSettingsUrl,\\r\\n                    data: {\\r\\n                        settings: JSON.stringify(settings)\\r\\n                    }\\r\\n                }).done(function (data) {\\r\\n                    console.log(data);\\r\\n                });\\r\\n            }\\r\\n\\r\\n            function addLineBreak(content) {\\r\\n                var delimiter = \\'</p>\\';\\r\\n                if (content.indexOf(delimiter) == -1 || content.indexOf(\\'<br/>\\') > 5 || content.indexOf(\\'<br>\\') > 5) {\\r\\n                    delimiter = \\'<br/>\\';\\r\\n                    if (content.indexOf(delimiter) == -1) {\\r\\n                        delimiter = \\'<br>\\';\\r\\n                    }\\r\\n                }\\r\\n                var contentArray = content.split(delimiter);\\r\\n                if (contentArray.length == 1) return content;\\r\\n                var newContent = \\'\\';\\r\\n                for (var i in contentArray) {\\r\\n                    var contentItem = contentArray[i].trim();\\r\\n                    if (contentItem != \\'<p>\\') {\\r\\n                        newContent += contentItem;\\r\\n                        newContent += \\'<br>\\';\\r\\n                    } \\r\\n                }\\r\\n                newContent = newContent.replace(/(<br\\\\s*\\\\/?>){1,}/gi, \\'<br>\\');\\r\\n                newContent = newContent.replace(/<p><br><br><\\\\/p>/gi, \\'\\');\\r\\n                return newContent;\\r\\n            }\\r\\n\\r\\n            function removeLineBreak(content) {\\r\\n                var newContent = content;\\r\\n                newContent = newContent.replace(/(<br\\\\s*\\\\/?>){1,}/gi, \\'\\');\\r\\n                return newContent;\\r\\n            }\\r\\n\\r\\n            function getStyle() {\\r\\n                var chapterStyle = $.cookie(\"chapter_style\");\\r\\n                if (chapterStyle) {\\r\\n                    chapterStyle = JSON.parse(chapterStyle);\\r\\n                } else {\\r\\n                    chapterStyle = {};\\r\\n                }\\r\\n                if (!chapterStyle.background) chapterStyle.background = \"#F4F4F4\";\\r\\n                if (!chapterStyle.fontFamily) chapterStyle.fontFamily = \"Arial, sans-serif\";\\r\\n                if (!chapterStyle.fontSize) chapterStyle.fontSize = \"18px\";\\r\\n                if (!chapterStyle.lineHeight) chapterStyle.lineHeight = \"160%\";\\r\\n                if (!chapterStyle.fluidSwitch) chapterStyle.fluidSwitch = \\'no\\';\\r\\n                if (!chapterStyle.onebreakSwitch) chapterStyle.onebreakSwitch = \\'no\\';\\r\\n                if (!chapterStyle.navBar) chapterStyle.navBar = \\'close\\';\\r\\n                return chapterStyle;\\r\\n            }\\r\\n\\r\\n            var chapterStyle = getStyle();\\r\\n            $optionBackground.val(chapterStyle.background);\\r\\n            $optionFontFamily.val(chapterStyle.fontFamily);\\r\\n            $optionFontSize.val(chapterStyle.fontSize);\\r\\n            $optionLineHeight.val(chapterStyle.lineHeight);\\r\\n            if (chapterStyle.navBar == \\'open\\') {\\r\\n                //$(\\'body\\').addClass(\\'toggleNav\\');\\r\\n//                $(\\'#container\\').addClass(\\'active\\');\\r\\n//                $navBar.find(\\'.glyphicon\\').removeClass(\\'glyphicon-menu-up\\').addClass(\\'glyphicon-menu-down\\');\\r\\n//                $navBar.addClass(\\'active\\');\\r\\n//                $(\\'header\\').hide();\\r\\n//                $(\\'.navbar-breadcrumb\\').hide();\\r\\n            }\\r\\n            $optionFluidSwitch.val([chapterStyle.fluidSwitch]);\\r\\n            $optionNoLineBreak.val([chapterStyle.onebreakSwitch]);\\r\\n            //changeStyle(\\'onebreak-switch\\', chapterStyle.onebreakSwitch);\\r\\n\\r\\n            // TODO: Chapter Nav\\r\\n            $(\\'.chapter_jump\\').on(\\'change\\', function() {\\r\\n                window.location = $(this).val();\\r\\n            });\\r\\n\\r\\n            // TODO: Novel history\\r\\n            var novel = {\\r\\n                id: 369,\\r\\n                name: \\'Warrior\\xe2\\x80\\x99s Promise\\',\\r\\n                url: \\'/warriors-promise.html\\',\\r\\n                chapter: {\\r\\n                    id: 642443,\\r\\n                    name: \\'Chapter 1\\',\\r\\n                    url: \\'/warriors-promise/chapter-1.html\\',\\r\\n                }\\r\\n            };\\r\\n\\r\\n            jQuery(document).ready(function () {\\r\\n                var limit = 10;\\r\\n                var novels = $.cookie(\"novels_history\");\\r\\n                if (novels) novels = JSON.parse(novels);\\r\\n                else novels = [];\\r\\n\\r\\n                for (var i in novels) {\\r\\n                    var nv = novels[i];\\r\\n                    if (nv.id == novel.id) {\\r\\n                        novels.splice(i, 1);\\r\\n                        break;\\r\\n                    }\\r\\n                }\\r\\n\\r\\n                if (novels.length == limit) {\\r\\n                    novels.splice(-1,1);\\r\\n                }\\r\\n                novels.unshift(novel);\\r\\n\\r\\n                var expDate = new Date();\\r\\n                expDate.setTime(expDate.getTime() + (7 * 24 * 60 * 60 * 1000));\\r\\n                $.cookie(\"novels_history\", JSON.stringify(novels), {path: \\'/\\', expires: expDate});\\r\\n            });\\r\\n\\r\\n            $(\\'#chapter_error\\').on(\\'click\\', function() {\\r\\n                console.log(\\'chapter_error\\');\\r\\n                var reason = prompt(\"Please describe error\", \"\");\\r\\n                if (reason != null) {\\r\\n                    $.ajax({\\r\\n                        method: \"GET\",\\r\\n                        url: ajaxReportChapterUrl,\\r\\n                        data: {\\r\\n                            chapter: $(this).data(\\'chapter-id\\'),\\r\\n                            reason: reason\\r\\n                        }\\r\\n                    }).done(function (data) {\\r\\n                        console.log(data);\\r\\n                    });\\r\\n                    alert(\\'Thanks report\\');\\r\\n                }\\r\\n            });\\r\\n\\r\\n            chapterJump(novel.id, novel.chapter.id, novel.chapter.url);\\r\\n        });\\r\\n    </script><link rel=\"stylesheet\" href=\"/web/css/style.css\"><link rel=\"stylesheet\" href=\"/web/css/rateit.css\"><link rel=\"stylesheet\" href=\"/web/css/custom.css\"><link rel=\"stylesheet\" href=\"/web/css/responsive.css\"></head><body><div id=\"wrapper\"><header class=\"header\" style=\"display: block\"><div class=\"navbar navbar-default navbar-static-top\" role=\"navigation\" id=\"nav\"><div class=\"container\"><div class=\"navbar-header\"><button type=\"button\" class=\"navbar-toggle\" data-toggle=\"collapse\" data-target=\".navbar-collapse\"><span class=\"sr-only\">Show menu</span><span class=\"icon-bar\"></span><span class=\"icon-bar\"></span><span class=\"icon-bar\"></span></button><h5><a class=\"header-logo\" href=\"/\"\\r\\n                           title=\"Read novel online\"><img src=\"/uploads/thumbs/banner-75b2b7a774-e3b318a6dc29b96947534819abc91cd3.png\"></a></h5></div><div class=\"navbar-collapse collapse\"><ul class=\"control nav navbar-nav \"><li class=\"dropdown\"><a href=\"#\" class=\"dropdown-toggle\" data-toggle=\"dropdown\" title=\"\"><span class=\"glyphicon glyphicon-list\"></span> Novel List <span class=\"caret\"></span></a><ul class=\"dropdown-menu\" role=\"menu\"><li><a href=\"/latest-release-novel\"\\r\\n                                       title=\"Latest Release\">Latest Release</a></li><li><a href=\"/hot-novel\"\\r\\n                                       title=\"Hot Novel\">Hot Novel</a></li><li><a href=\"/completed-novel\"\\r\\n                                       title=\"Completed Novel\">Completed Novel</a></li><li><a href=\"/most-popular\"\\r\\n                                       title=\"Most Popular\">Most Popular</a></li></ul></li><li class=\"dropdown\"><a href=\"#\" class=\"dropdown-toggle\" data-toggle=\"dropdown\" title=\"\"><span class=\"glyphicon glyphicon-list\"></span> Genre <span class=\"caret\"></span></a><div class=\"dropdown-menu multi-column\"><div class=\"row\"><div class=\"col-md-4\"><ul class=\"dropdown-menu\"><li><a href=\"/genre/Shounen\"\\r\\n                                                       title=\"Shounen\">Shounen</a></li><li><a href=\"/genre/Harem\"\\r\\n                                                       title=\"Harem\">Harem</a></li><li><a href=\"/genre/Comedy\"\\r\\n                                                       title=\"Comedy\">Comedy</a></li><li><a href=\"/genre/Martial+Arts\"\\r\\n                                                       title=\"Martial Arts\">Martial Arts</a></li><li><a href=\"/genre/School+Life\"\\r\\n                                                       title=\"School Life\">School Life</a></li><li><a href=\"/genre/Mystery\"\\r\\n                                                       title=\"Mystery\">Mystery</a></li><li><a href=\"/genre/Shoujo\"\\r\\n                                                       title=\"Shoujo\">Shoujo</a></li><li><a href=\"/genre/Romance\"\\r\\n                                                       title=\"Romance\">Romance</a></li><li><a href=\"/genre/Sci-fi\"\\r\\n                                                       title=\"Sci-fi\">Sci-fi</a></li><li><a href=\"/genre/Gender+Bender\"\\r\\n                                                       title=\"Gender Bender\">Gender Bender</a></li><li><a href=\"/genre/Mature\"\\r\\n                                                       title=\"Mature\">Mature</a></li><li><a href=\"/genre/Fantasy\"\\r\\n                                                       title=\"Fantasy\">Fantasy</a></li></ul></div><div class=\"col-md-4\"><ul class=\"dropdown-menu\"><li><a href=\"/genre/Horror\"\\r\\n                                                       title=\"Horror\">Horror</a></li><li><a href=\"/genre/Drama\"\\r\\n                                                       title=\"Drama\">Drama</a></li><li><a href=\"/genre/Tragedy\"\\r\\n                                                       title=\"Tragedy\">Tragedy</a></li><li><a href=\"/genre/Supernatural\"\\r\\n                                                       title=\"Supernatural\">Supernatural</a></li><li><a href=\"/genre/Ecchi\"\\r\\n                                                       title=\"Ecchi\">Ecchi</a></li><li><a href=\"/genre/Xuanhuan\"\\r\\n                                                       title=\"Xuanhuan\">Xuanhuan</a></li><li><a href=\"/genre/Adventure\"\\r\\n                                                       title=\"Adventure\">Adventure</a></li><li><a href=\"/genre/Action\"\\r\\n                                                       title=\"Action\">Action</a></li><li><a href=\"/genre/Psychological\"\\r\\n                                                       title=\"Psychological\">Psychological</a></li><li><a href=\"/genre/Xianxia\"\\r\\n                                                       title=\"Xianxia\">Xianxia</a></li><li><a href=\"/genre/Wuxia\"\\r\\n                                                       title=\"Wuxia\">Wuxia</a></li><li><a href=\"/genre/Historical\"\\r\\n                                                       title=\"Historical\">Historical</a></li></ul></div><div class=\"col-md-4\"><ul class=\"dropdown-menu\"><li><a href=\"/genre/Slice+of+Life\"\\r\\n                                                       title=\"Slice of Life\">Slice of Life</a></li><li><a href=\"/genre/Seinen\"\\r\\n                                                       title=\"Seinen\">Seinen</a></li><li><a href=\"/genre/Lolicon\"\\r\\n                                                       title=\"Lolicon\">Lolicon</a></li><li><a href=\"/genre/Adult\"\\r\\n                                                       title=\"Adult\">Adult</a></li><li><a href=\"/genre/Josei\"\\r\\n                                                       title=\"Josei\">Josei</a></li><li><a href=\"/genre/Sports\"\\r\\n                                                       title=\"Sports\">Sports</a></li><li><a href=\"/genre/Smut\"\\r\\n                                                       title=\"Smut\">Smut</a></li><li><a href=\"/genre/Mecha\"\\r\\n                                                       title=\"Mecha\">Mecha</a></li><li><a href=\"/genre/Yaoi\"\\r\\n                                                       title=\"Yaoi\">Yaoi</a></li><li><a href=\"/genre/Shounen+Ai\"\\r\\n                                                       title=\"Shounen Ai\">Shounen Ai</a></li></ul></div></div></div></li><li class=\"dropdown\" id=\"options\"><a href=\"javascript:void(0)\" class=\"dropdown-toggle\" data-toggle=\"dropdown\"\\r\\n                               aria-expanded=\"false\"><span class=\"glyphicon glyphicon-cog\"></span> Options <span\\r\\n                                    class=\"caret\"></span></a><div class=\"dropdown-menu dropdown-menu-right settings\"><form class=\"form-horizontal\"><div class=\"form-group form-group-sm\"><label class=\"col-sm-2 col-md-5 control-label\" for=\"truyen-background\">Background</label><div class=\"col-sm-5 col-md-7\"><select class=\"form-control\" id=\"option-background\"><option value=\"#F4F4F4\">Light gray</option><option value=\"#E9EBEE\">Light blue</option><option value=\"#F4F4E4\">Light yellow</option><option value=\"#EAE4D3\">Sepia</option><option value=\"#D5D8DC\">Dark blue</option><option value=\"#FAFAC8\">Dark yellow</option><option value=\"#EFEFAB\">Wood grain</option><option value=\"#FFF\">White</option><option value=\"#232323\">Dark</option></select></div></div><div class=\"form-group form-group-sm\"><label class=\"col-sm-2 col-md-5 control-label\"\\r\\n                                               for=\"font-chu\">Font family</label><div class=\"col-sm-5 col-md-7\"><select class=\"form-control\"\\r\\n                                                                               id=\"option-font-family\"><option value=\"\\'Palatino Linotype\\', serif\">Palatino Linotype</option><option value=\"Bookerly, serif\">Bookerly</option><option value=\"Minion, serif\">Minion</option><option value=\"\\'Segoe UI\\', sans-serif\">Segoe UI</option><option value=\"Roboto, sans-serif\">Roboto</option><option value=\"\\'Roboto Condensed\\', sans-serif\">Roboto Condensed</option><option value=\"\\'Patrick Hand\\', sans-serif\">Patrick Hand</option><option value=\"\\'Noticia Text\\', sans-serif\">Noticia Text</option><option value=\"\\'Times New Roman\\', serif\">Times New Roman</option><option value=\"Verdana, sans-serif\">Verdana</option><option value=\"Tahoma, sans-serif\">Tahoma</option><option value=\"Arial, sans-serif\">Arial</option></select></div></div><div class=\"form-group form-group-sm\"><label class=\"col-sm-2 col-md-5 control-label\" for=\"size-chu\">Font size</label><div class=\"col-sm-5 col-md-7\"><select class=\"form-control\" id=\"option-font-size\"><option value=\"16px\">16</option><option value=\"18px\">18</option><option value=\"20px\">20</option><option value=\"22px\">22</option><option value=\"24px\">24</option><option value=\"26px\">26</option><option value=\"28px\">28</option><option value=\"30px\">30</option><option value=\"32px\">32</option><option value=\"34px\">34</option><option value=\"36px\">36</option><option value=\"38px\">38</option><option value=\"40px\">40</option></select></div></div><div class=\"form-group form-group-sm\"><label class=\"col-sm-2 col-md-5 control-label\" for=\"line-height\">Line\\r\\n                                            height</label><div class=\"col-sm-5 col-md-7\"><select class=\"form-control\" id=\"option-line-height\"><option value=\"100%\">100%</option><option value=\"120%\">120%</option><option value=\"140%\">140%</option><option value=\"160%\">160%</option><option value=\"180%\">180%</option><option value=\"200%\">200%</option></select></div></div><div class=\"form-group form-group-sm\"><label class=\"col-sm-2 col-md-5 control-label\">Full frame</label><div class=\"col-sm-5 col-md-7\"><label class=\"radio-inline\" for=\"fluid-yes\"><input type=\"radio\" name=\"fluid-switch\" id=\"fluid-yes\" value=\"yes\"> Yes</label><label class=\"radio-inline\" for=\"fluid-no\"><input type=\"radio\" name=\"fluid-switch\" id=\"fluid-no\" value=\"no\"\\r\\n                                                       checked=\"\"> No</label></div></div><div class=\"form-group form-group-sm\"><label class=\"col-sm-2 col-md-5 control-label\">No line break</label><div class=\"col-sm-5 col-md-7\"><label class=\"radio-inline\" for=\"onebreak-yes\"><input type=\"radio\" name=\"onebreak-switch\" id=\"onebreak-yes\"\\r\\n                                                       value=\"yes\"> Yes</label><label class=\"radio-inline\" for=\"onebreak-no\"><input type=\"radio\" name=\"onebreak-switch\" id=\"onebreak-no\" value=\"no\"\\r\\n                                                       checked=\"\"> No</label></div></div></form></div></li></ul><form class=\"navbar-form navbar-right\"\\r\\n                          action=\"/search\"><div class=\"input-group search-holder\"><input class=\"form-control\" id=\"search-input\" type=\"search\"\\r\\n                                   name=\"keyword\" placeholder=\"Search...\"\\r\\n                                   value=\"\"><div class=\"input-group-btn\"><button class=\"btn btn-default\" type=\"submit\"><span\\r\\n                                        class=\"glyphicon glyphicon-search\"></span></button></div></div><div class=\"list-group list-search-res hide\"></div></form><div id=\"login-status\" class=\"hide\"></div></div><!--/.nav-collapse --></div></div></header><main id=\"container\" class=\" \"\\r\\n          style=\"background-color: #F4F4F4\"><div class=\"navbar-breadcrumb\" style=\"display: block\"><div class=\"container breadcrumb-container\"><ol class=\"breadcrumb\"><li><a href=\"\"><span class=\"glyphicon glyphicon-home\"></span></a><a href=\"/\" title=\"Read novel online\"><span>Novel</span></a></li><li><h1><a href=\"/warriors-promise.html\" title=\"Warrior\\xe2\\x80\\x99s Promise\"><span>Warrior\\xe2\\x80\\x99s Promise</span></a></h1></li><li class=\"active\"><a href=\"/warriors-promise/chapter-1.html\"\\r\\n                       title=\"Chapter 1\"><span>Chapter 1</span></a></li></ol></div></div><div id=\"chapter\" class=\"chapter container\"><div class=\"row\"><div class=\"col-xs-12\"><a class=\"truyen-title\" href=\"/warriors-promise.html\" title=\"Warrior\\xe2\\x80\\x99s Promise\">Warrior\\xe2\\x80\\x99s Promise</a><h2><a class=\"chapter-title\" href=\"/warriors-promise/chapter-1.html\" title=\"Chapter 1\"><span class=\"chapter-text\">Chapter 1<span></a></h2><hr class=\"chapter-start\"><button type=\"button\" class=\"btn btn-responsive btn-success toggle-nav-open \"><span class=\"glyphicon glyphicon-menu-up\"></span></button><div class=\"chapter-nav\" id=\"chapter-nav-top\"><div class=\"btn-group\"><a class=\"btn btn-success\" disabled id=\"prev_chap\"><span class=\"glyphicon glyphicon-chevron-left\"></span><span class=\"hidden-xs\">Prev Chapter</span></a><button type=\"button\" class=\"btn btn-success chapter_jump\"><span class=\"glyphicon glyphicon-list-alt\"></span></button><a class=\"btn btn-success\" href=\"/warriors-promise/chapter-2.html\"\\r\\n               title=\"Chapter 2\"\\r\\n               id=\"next_chap\"><span class=\"hidden-xs\">Next Chapter</span><span class=\"glyphicon glyphicon-chevron-right\"></span></a></div></div><hr class=\"chapter-end\"><div id=\"chapter-content\" class=\"chapter-c\" style=\"font-family: Arial, sans-serif, serif; font-size: 18px; line-height: 160%;\"><script async src=\"https://pagead2.googlesyndication.com/pagead/js/adsbygoogle.js\"></script><!-- full thich ung --><ins class=\"adsbygoogle\"\\r\\n     style=\"display:block\"\\r\\n     data-ad-client=\"ca-pub-2371791870283090\"\\r\\n     data-ad-slot=\"2009706278\"\\r\\n     data-ad-format=\"auto\"\\r\\n     data-full-width-responsive=\"true\"></ins><script>\\r\\n     (adsbygoogle = window.adsbygoogle || []).push({});\\r\\n</script><p></p><p><div><h3>Chapter 1: The Awakening of Martial Souls</h3></p><p><strong>Translator:\\xc2\\xa0</strong>Transn\\xc2\\xa0<i></i>\\xc2\\xa0<strong>Editor:\\xc2\\xa0</strong>Transn</p></div><div><div><p>The story started in Sunnywood City, Skymoon Country.</p><div></div><p>In the mansion of the Sus, a ceremony of Martial Soul awakening was being held in a huge martial practice field.</p><p>An altar stood in the center of the martial practice field.</p><p>Many elders and disciples of the Sus were clustered in the field, watching the ceremony.</p><p>&#8220;Rank 2 Human Class Martial Soul!&#8221;</p><p>&#8220;Rank 3 Human Class Martial Soul!&#8221;</p><p>&#8220;Rank 3 Human Class Martial Soul!&#8221;</p><div></div><p>The elder hosting the ceremony continuously announced the ranks of the Su disciples&#8217; awakened Martial Souls.</p><p>The level of the Martial Soul indicated the cultivating talent of martial artists. Both Rank 2 and Rank 3 Human Class Martial Soul were common Martial Souls and were considered mediocre.</p><p>Many people in the martial practice field fixed their eyes on two young men who were standing in the front row.</p><p>One was dressed in teal clothes, and the other one was wearing purple clothes. They were both quite handsome.</p><p>The young man in teal was called Su Mo, the young master of the Sus and the son of the Master of the Sus.</p><p>The young man in purple was the son of the First Elder of the Sus.</p><p>They both were seeded disciples with great talents among all inferiors, especially Su Mo.</p><p>The young master had accomplished Lv 9 Body Tempering Realm at the age of 15, and he was endowed with the highest talent among all inferiors.</p><div></div><p>Therefore, everyone looked forward to seeing what levels of Martial Souls they would awaken.</p><p>In the first row, Su Yu, dressed in purple clothes, glanced at Su Mo, who was next to him. He sneered and said, &#8220;You&#8217;re called the top genius of the entire Su clan. I hope that you can awaken a Martial Soul that is well worthy of your identity.&#8221;</p><p>The eyes of Su Yu were full of sarcasm. He had an extremely high talent, but Su Mo was spoken more highly of than him in the Su clan.</p><p>The so-called nickname of top genius made Su Mo so famous that he stole Su Yu&#8217;s honors.</p><p>As a result, Su Yu could only be second to him every time.</p><p>Su Yu was so furious, because even the lady he liked had a crush on Su Mo.</p><p>Now, his opportunity had finally arrived. As long as he could awaken a Martial Soul with a higher level than that of Su Mo, he would claim the title of first genius among the Sus.</p><p>However, Su Mo was unprovoked. He did not say anything, because he clearly knew Su Yu&#8217;s hostility toward him.</p><p>Then, the hosting elder exclaimed,</p><p>&#8220;Next up, Su Mo!&#8221;</p><div></div><p>Su Mo instantly strode onto the altar.</p><p>Right at this moment, all people fixed their eyes on him and the entire martial practice field immediately quietened. They were wondering what the level of Martial Soul Su Mo, the first genius of the Su clan, could awaken.</p><p>After entering the altar, Su Mo sat cross-legged with his eyes tightly closed.</p><p>Glowing runes emerged consecutively beneath the altar and entered into Su Mo&#8217;s body.</p><p>The surrounding disciples of the Sus started to whisper after Su Mo entered the altar.</p><p>&#8220;Can you guess which level of Martial Soul brother Su Mo can awaken?&#8221;</p><p>&#8220;As the young master, the level of his Martial Soul must be very high.&#8221;</p><p>&#8220;You&#8217;re right. He has accomplished Lv 9 Body Tempering Realm at less than 15 years old, so he&#8217;ll awaken a Martial Soul with an extremely high level.&#8221;</p><div class=\"ads ads-holder ads-middle text-center\"><script async src=\"https://pagead2.googlesyndication.com/pagead/js/adsbygoogle.js\"></script><ins class=\"adsbygoogle\"\\r\\n     style=\"display:block; text-align:center;\"\\r\\n     data-ad-layout=\"in-article\"\\r\\n     data-ad-format=\"fluid\"\\r\\n     data-ad-client=\"ca-pub-2371791870283090\"\\r\\n     data-ad-slot=\"8264086020\"></ins><script>\\r\\n     (adsbygoogle = window.adsbygoogle || []).push({});\\r\\n</script></div><p>Amidst the disciples&#8217; heated discussion, more and more sparkling runes floated above the altar and enveloped Su Mo&#8217;s body.</p><p>With his legs crossed and eyes closed, Su Mo started to breathe quickly, and roaring sounds gradually arose.</p><p>Everyone stopped breathing and stared closely at the altar.</p><p>Boom!</p><div></div><p>Finally, with a mighty booming sound, a dark shadow abruptly rose from his body.</p><p>This dark shadow was a huge vortex, inside which was a bottomless black hole, making people feel a chill.</p><p>At the same time, a yellow halo appeared above the shadow.</p><p><em>Ah!</em></p><p>All the Sus were instantly glassy-eyed.</p><p><em>&#8220;Why is there only one halo?&#8221;</em></p><p>&#8220;His Martial Soul is Rank 1 Human Class?&#8221;</p><p><em>&#8220;How is this possible?&#8221;</em></p><p>Everyone was stunned, and even Su Yu felt startled with his mouth agape.</p><p>He had not expected that Su Mo would only awaken a Rank 1 Human Class Martial Soul.</p><div></div><p>The Rank 1 Human Class Martial Soul was the lowest one and totally useless.</p><p>Seated on the altar with his legs crossed, Su Mo slowly opened his eyes. He was also dumbfounded when he saw his Martial Soul.</p><p>&#8220;Rank 1 Human Class Martial Soul&#8230;&#8221; Su Mo murmured with a bitter smile on his lips. He had never thought that he would awaken a lowest rank Martial Soul.</p><p>After a while, everyone regained consciousness, and the martial practice field was suddenly in an uproar.</p><p>&#8220;Oh my, my eyes must be playing tricks on me. It&#8217;s a Rank 1 Human Class Martial Soul, the totally useless one?&#8221;</p><p>&#8220;He awakened a useless Martial Soul. Crap, I can&#8217;t believe I anticipated for so long!&#8221;</p><p>&#8220;He isn&#8217;t a genius, but the most useless person in our clan!&#8221;</p><p>&#8220;&#8230;&#8221;</p><p>All the spectators were talking about the matter, and all the elders and inferiors of the Sus changed their view of Su Mo.</p><p>They used to look at him with respect and admiration, but now, they were looking at him with disappointment and contempt.</p><div></div><p>On the altar, Su Mo managed to slowly stand up with his fists clenched.</p><p>He looked around and saw their expressions.\\xc2\\xa0<em>&#8220;What snobbish people they are!&#8221;\\xc2\\xa0</em>Su Mo smiled satirically in his heart.</p><p>Previously, when he was considered to be highly talented, all of them showed their respect to him. Wherever he went, they all swarmed to him and kissed his ass.</p><p>Now, after he awakened a useless Martial Soul, they all instantly looked at him with contempt.</p><p>After a while, Su Mo took a deep breath and strode off the altar.</p><p>&#8220;Next one, Su Yu!&#8221; exclaimed the hosting elder.</p><p>Glancing at Su Mo, he shook his head secretly. The former genius was a genius no more!</p><p>Upon hearing this, Su Yu walked toward the altar with a prideful look.</p><p>When he passed by Su Mo, he coldly laughed and disdainfully said, &#8220;I used to regard you as my rival. But from now on, the rivalry is gone, and I&#8217;ll tread you under my foot forever!&#8221;</p><p>Su Yu felt extremely happy. Now that Su Mo had awakened the lowest rank Martial Soul, Su Mo would not even be eligible to lick his shoes.</p><p>Even if he awakened a bad Martial Soul, it would still be higher than Su Mo&#8217;s.</p><p>Su Yu strode onto the altar after saying these words.</p><div></div><p>Without responding to his provocation, Su Mo returned to the martial practice field and calmly observed the ceremony.</p><p>Standing in the martial practice field, he felt some disparaging eyes fixed upon him and saw the disdainful expressions of disciples around him.</p><div class=\"ads ads-holder ads-middle text-center\"><script async src=\"https://pagead2.googlesyndication.com/pagead/js/adsbygoogle.js\"></script><ins class=\"adsbygoogle\"\\r\\n     style=\"display:block; text-align:center;\"\\r\\n     data-ad-layout=\"in-article\"\\r\\n     data-ad-format=\"fluid\"\\r\\n     data-ad-client=\"ca-pub-2371791870283090\"\\r\\n     data-ad-slot=\"8264086020\"></ins><script>\\r\\n     (adsbygoogle = window.adsbygoogle || []).push({});\\r\\n</script></div><p>Su Mo&#8217;s heart could not stop twitching. After all, the feeling of falling from heaven to hell was indeed torture.</p><p>Now, Su Yu sat on the altar cross-legged. The glowing runes emerged from the black alter and all entered his body.</p><p>The martial practice field quieted down again, and everyone looked forward to seeing his Martial Soul.</p><p>Su Mo had awakened a useless Martial Soul, so it was impossible that Su Yu would awaken another useless one.</p><p>Otherwise, the Sus would become a joke in Sunnywood City.</p><p><em>Howl!</em></p><p>As everyone was anticipating, a beast&#8217;s roar abruptly came out from Su Yu&#8217;s body.</p><p>A giant virtual shadow of a snake rose above the head of him, triumphantly.</p><p>There were five dazzling yellow halos around the python&#8217;s shadow.</p><p>The hosting elder was stunned at the sight of his Martial Soul. Then, he shouted excitedly, &#8220;Five halos! It&#8217;s a Rank 5 Human Class Martial Soul \\xe2\\x80\\x94Iron-scaled Python.&#8221;</p><p>The Rank 5 Human Class Martial Soul was the highest one in all of Sunnywood City. Finally, another genius had appeared in the Sus.</p><p>The entire martial practice field fell into silence at the sight of Su Yu&#8217;s Martial Soul.</p><p>Then, it was in an uproar again.</p><p>&#8220;Rank 5 Human Class Martial Soul!&#8221;</p><p>&#8220;Haha! The top genius appeared in the Su clan.&#8221;</p><p>&#8220;Brother Su Yu turned out to be the first genius of our Su clan. Su Mo is nothing!&#8221;</p><p>&#8220;You&#8217;re right! Su Mo only has a useless Martial Soul. He can&#8217;t be compared with Su Yu!&#8221;</p><p>All disciples of the Sus looked at Su Yu with admiration.</p><p>On the altar, Su Yu saw that he awakened a Rank 5 Human Class Martial Soul and heard the surprise and admiration from the crowd.</p><p>A thick of pride arose in his heart and felt that everything was beautiful. He was full of high spirits and thought that no one could rival him.</p><p>He arrogantly turned to Su Mo and looked at him with eyes full of sarcasm, as if to say, &#8220;I will always tread you under my foot from now on.&#8221;</p><p>After seeing Su Yu&#8217;s proud look and hearing the praise from the crowd, Su Mo sighed in his heart and left the martial practice field.</p></div></div><div  align=\"left\">\\r\\n        If you find any errors ( broken links, non-standard content, etc.. ), Please let us know < report chapter > so we can fix it as soon as possible. </div></div><hr class=\"chapter-end\"><div class=\"chapter-nav\" id=\"chapter-nav-top\"><div class=\"btn-group\"><a class=\"btn btn-success\" disabled id=\"prev_chap\"><span class=\"glyphicon glyphicon-chevron-left\"></span><span class=\"hidden-xs\">Prev Chapter</span></a><button type=\"button\" class=\"btn btn-success chapter_jump\"><span class=\"glyphicon glyphicon-list-alt\"></span></button><a class=\"btn btn-success\" href=\"/warriors-promise/chapter-2.html\"\\r\\n               title=\"Chapter 2\"\\r\\n               id=\"next_chap\"><span class=\"hidden-xs\">Next Chapter</span><span class=\"glyphicon glyphicon-chevron-right\"></span></a></div></div><div class=\"text-center\"><button type=\"button\" class=\"btn btn-warning\" id=\"chapter_error\" data-chapter-id=\"642443\"><span class=\"glyphicon glyphicon-exclamation-sign\"></span> Report chapter\\r\\n    </button><!--    <button type=\"button\" class=\"btn btn-info\" id=\"chapter_comment\">--><!--        <span class=\"glyphicon glyphicon-comment\"></span> Comment--><!--    </button>--></div><div class=\"bg-info text-center visible-md visible-lg box-notice\">\\r\\n    Tip: You can use left, right, A and D keyboard keys to browse between chapters.\\r\\n</div><div class=\"col-xs-12\"></div><script data-ad-client=\"ca-pub-2371791870283090\" async src=\"https://pagead2.googlesyndication.com/pagead/js/adsbygoogle.js\"></script></div></div></div></main><footer class=\"footer\"><div class=\"container\"><div class=\"hidden-xs col-sm-5\"><p>\\r\\n\\t&copy; Copyright NovelFull.Com. All Rights Reserved.</p></div><ul class=\"col-xs-12 col-sm-7 list-unstyled\"><li class=\"text-right pull-right\"><a href=\"/contact\" title=\"Contact\">Contact</a> -\\r\\n                    <a href=\"/tos\" title=\"ToS\">ToS</a> -\\r\\n                    <a href=\"/sitemap.xml\" target=\"_blank\">Sitemap</a><a\\r\\n                        class=\"backtop\" href=\"#\" rel=\"nofollow\" title=\"\"><span\\r\\n                            class=\"glyphicon glyphicon-upload\"></span></a></li></ul></div></footer></div></body><!-- Global site tag (gtag.js) - Google Analytics --><script async src=\"https://www.googletagmanager.com/gtag/js?id=UA-101484867-2\"></script><script>\\n  window.dataLayer = window.dataLayer || [];\\n  function gtag(){dataLayer.push(arguments);}\\n  gtag(\\'js\\', new Date());\\n\\n  gtag(\\'config\\', \\'UA-101484867-2\\');\\n</script></html>'"
      ]
     },
     "execution_count": 3,
     "metadata": {},
     "output_type": "execute_result"
    }
   ],
   "source": [
    "response.content"
   ]
  },
  {
   "cell_type": "markdown",
   "metadata": {},
   "source": [
    "### parsing the html content"
   ]
  },
  {
   "cell_type": "code",
   "execution_count": 4,
   "metadata": {
    "ExecuteTime": {
     "end_time": "2021-03-14T14:04:50.414302Z",
     "start_time": "2021-03-14T14:04:50.246057Z"
    }
   },
   "outputs": [],
   "source": [
    "soup = BeautifulSoup(response.content, 'html.parser')"
   ]
  },
  {
   "cell_type": "markdown",
   "metadata": {},
   "source": [
    "### count all paragraphs and print it one by one"
   ]
  },
  {
   "cell_type": "code",
   "execution_count": 5,
   "metadata": {
    "ExecuteTime": {
     "end_time": "2021-03-14T14:04:50.538969Z",
     "start_time": "2021-03-14T14:04:50.416297Z"
    },
    "scrolled": false
   },
   "outputs": [
    {
     "name": "stdout",
     "output_type": "stream",
     "text": [
      "\n",
      "Chapter 1: The Awakening of Martial Souls\n",
      "Translator: Transn  Editor: Transn\n",
      "The story started in Sunnywood City, Skymoon Country.\n",
      "In the mansion of the Sus, a ceremony of Martial Soul awakening was being held in a huge martial practice field.\n",
      "An altar stood in the center of the martial practice field.\n",
      "Many elders and disciples of the Sus were clustered in the field, watching the ceremony.\n",
      "“Rank 2 Human Class Martial Soul!”\n",
      "“Rank 3 Human Class Martial Soul!”\n",
      "“Rank 3 Human Class Martial Soul!”\n",
      "The elder hosting the ceremony continuously announced the ranks of the Su disciples’ awakened Martial Souls.\n",
      "The level of the Martial Soul indicated the cultivating talent of martial artists. Both Rank 2 and Rank 3 Human Class Martial Soul were common Martial Souls and were considered mediocre.\n",
      "Many people in the martial practice field fixed their eyes on two young men who were standing in the front row.\n",
      "One was dressed in teal clothes, and the other one was wearing purple clothes. They were both quite handsome.\n",
      "The young man in teal was called Su Mo, the young master of the Sus and the son of the Master of the Sus.\n",
      "The young man in purple was the son of the First Elder of the Sus.\n",
      "They both were seeded disciples with great talents among all inferiors, especially Su Mo.\n",
      "The young master had accomplished Lv 9 Body Tempering Realm at the age of 15, and he was endowed with the highest talent among all inferiors.\n",
      "Therefore, everyone looked forward to seeing what levels of Martial Souls they would awaken.\n",
      "In the first row, Su Yu, dressed in purple clothes, glanced at Su Mo, who was next to him. He sneered and said, “You’re called the top genius of the entire Su clan. I hope that you can awaken a Martial Soul that is well worthy of your identity.”\n",
      "The eyes of Su Yu were full of sarcasm. He had an extremely high talent, but Su Mo was spoken more highly of than him in the Su clan.\n",
      "The so-called nickname of top genius made Su Mo so famous that he stole Su Yu’s honors.\n",
      "As a result, Su Yu could only be second to him every time.\n",
      "Su Yu was so furious, because even the lady he liked had a crush on Su Mo.\n",
      "Now, his opportunity had finally arrived. As long as he could awaken a Martial Soul with a higher level than that of Su Mo, he would claim the title of first genius among the Sus.\n",
      "However, Su Mo was unprovoked. He did not say anything, because he clearly knew Su Yu’s hostility toward him.\n",
      "Then, the hosting elder exclaimed,\n",
      "“Next up, Su Mo!”\n",
      "Su Mo instantly strode onto the altar.\n",
      "Right at this moment, all people fixed their eyes on him and the entire martial practice field immediately quietened. They were wondering what the level of Martial Soul Su Mo, the first genius of the Su clan, could awaken.\n",
      "After entering the altar, Su Mo sat cross-legged with his eyes tightly closed.\n",
      "Glowing runes emerged consecutively beneath the altar and entered into Su Mo’s body.\n",
      "The surrounding disciples of the Sus started to whisper after Su Mo entered the altar.\n",
      "“Can you guess which level of Martial Soul brother Su Mo can awaken?”\n",
      "“As the young master, the level of his Martial Soul must be very high.”\n",
      "“You’re right. He has accomplished Lv 9 Body Tempering Realm at less than 15 years old, so he’ll awaken a Martial Soul with an extremely high level.”\n",
      "Amidst the disciples’ heated discussion, more and more sparkling runes floated above the altar and enveloped Su Mo’s body.\n",
      "With his legs crossed and eyes closed, Su Mo started to breathe quickly, and roaring sounds gradually arose.\n",
      "Everyone stopped breathing and stared closely at the altar.\n",
      "Boom!\n",
      "Finally, with a mighty booming sound, a dark shadow abruptly rose from his body.\n",
      "This dark shadow was a huge vortex, inside which was a bottomless black hole, making people feel a chill.\n",
      "At the same time, a yellow halo appeared above the shadow.\n",
      "Ah!\n",
      "All the Sus were instantly glassy-eyed.\n",
      "“Why is there only one halo?”\n",
      "“His Martial Soul is Rank 1 Human Class?”\n",
      "“How is this possible?”\n",
      "Everyone was stunned, and even Su Yu felt startled with his mouth agape.\n",
      "He had not expected that Su Mo would only awaken a Rank 1 Human Class Martial Soul.\n",
      "The Rank 1 Human Class Martial Soul was the lowest one and totally useless.\n",
      "Seated on the altar with his legs crossed, Su Mo slowly opened his eyes. He was also dumbfounded when he saw his Martial Soul.\n",
      "“Rank 1 Human Class Martial Soul…” Su Mo murmured with a bitter smile on his lips. He had never thought that he would awaken a lowest rank Martial Soul.\n",
      "After a while, everyone regained consciousness, and the martial practice field was suddenly in an uproar.\n",
      "“Oh my, my eyes must be playing tricks on me. It’s a Rank 1 Human Class Martial Soul, the totally useless one?”\n",
      "“He awakened a useless Martial Soul. Crap, I can’t believe I anticipated for so long!”\n",
      "“He isn’t a genius, but the most useless person in our clan!”\n",
      "“…”\n",
      "All the spectators were talking about the matter, and all the elders and inferiors of the Sus changed their view of Su Mo.\n",
      "They used to look at him with respect and admiration, but now, they were looking at him with disappointment and contempt.\n",
      "On the altar, Su Mo managed to slowly stand up with his fists clenched.\n",
      "He looked around and saw their expressions. “What snobbish people they are!” Su Mo smiled satirically in his heart.\n",
      "Previously, when he was considered to be highly talented, all of them showed their respect to him. Wherever he went, they all swarmed to him and kissed his ass.\n",
      "Now, after he awakened a useless Martial Soul, they all instantly looked at him with contempt.\n",
      "After a while, Su Mo took a deep breath and strode off the altar.\n",
      "“Next one, Su Yu!” exclaimed the hosting elder.\n",
      "Glancing at Su Mo, he shook his head secretly. The former genius was a genius no more!\n",
      "Upon hearing this, Su Yu walked toward the altar with a prideful look.\n",
      "When he passed by Su Mo, he coldly laughed and disdainfully said, “I used to regard you as my rival. But from now on, the rivalry is gone, and I’ll tread you under my foot forever!”\n",
      "Su Yu felt extremely happy. Now that Su Mo had awakened the lowest rank Martial Soul, Su Mo would not even be eligible to lick his shoes.\n",
      "Even if he awakened a bad Martial Soul, it would still be higher than Su Mo’s.\n",
      "Su Yu strode onto the altar after saying these words.\n",
      "Without responding to his provocation, Su Mo returned to the martial practice field and calmly observed the ceremony.\n",
      "Standing in the martial practice field, he felt some disparaging eyes fixed upon him and saw the disdainful expressions of disciples around him.\n",
      "Su Mo’s heart could not stop twitching. After all, the feeling of falling from heaven to hell was indeed torture.\n",
      "Now, Su Yu sat on the altar cross-legged. The glowing runes emerged from the black alter and all entered his body.\n",
      "The martial practice field quieted down again, and everyone looked forward to seeing his Martial Soul.\n",
      "Su Mo had awakened a useless Martial Soul, so it was impossible that Su Yu would awaken another useless one.\n",
      "Otherwise, the Sus would become a joke in Sunnywood City.\n",
      "Howl!\n",
      "As everyone was anticipating, a beast’s roar abruptly came out from Su Yu’s body.\n",
      "A giant virtual shadow of a snake rose above the head of him, triumphantly.\n",
      "There were five dazzling yellow halos around the python’s shadow.\n",
      "The hosting elder was stunned at the sight of his Martial Soul. Then, he shouted excitedly, “Five halos! It’s a Rank 5 Human Class Martial Soul —Iron-scaled Python.”\n",
      "The Rank 5 Human Class Martial Soul was the highest one in all of Sunnywood City. Finally, another genius had appeared in the Sus.\n",
      "The entire martial practice field fell into silence at the sight of Su Yu’s Martial Soul.\n",
      "Then, it was in an uproar again.\n",
      "“Rank 5 Human Class Martial Soul!”\n",
      "“Haha! The top genius appeared in the Su clan.”\n",
      "“Brother Su Yu turned out to be the first genius of our Su clan. Su Mo is nothing!”\n",
      "“You’re right! Su Mo only has a useless Martial Soul. He can’t be compared with Su Yu!”\n",
      "All disciples of the Sus looked at Su Yu with admiration.\n",
      "On the altar, Su Yu saw that he awakened a Rank 5 Human Class Martial Soul and heard the surprise and admiration from the crowd.\n",
      "A thick of pride arose in his heart and felt that everything was beautiful. He was full of high spirits and thought that no one could rival him.\n",
      "He arrogantly turned to Su Mo and looked at him with eyes full of sarcasm, as if to say, “I will always tread you under my foot from now on.”\n",
      "After seeing Su Yu’s proud look and hearing the praise from the crowd, Su Mo sighed in his heart and left the martial practice field.\n",
      "\r\n",
      "\t© Copyright NovelFull.Com. All Rights Reserved.\n"
     ]
    }
   ],
   "source": [
    "count_p = len(soup.find_all('p'))\n",
    "i = 0\n",
    "while i < count_p:\n",
    "    print(soup.find_all('p')[i].get_text())\n",
    "    i+=1"
   ]
  },
  {
   "cell_type": "code",
   "execution_count": 6,
   "metadata": {
    "ExecuteTime": {
     "end_time": "2021-03-14T14:04:50.554930Z",
     "start_time": "2021-03-14T14:04:50.542960Z"
    }
   },
   "outputs": [],
   "source": [
    "all_p_content = soup.findAll('p')                    # find all paragraphs inside respose\n",
    "paragraphs = [str(x.text) for x in all_p_content]   # list of all paragraphs   "
   ]
  },
  {
   "cell_type": "markdown",
   "metadata": {},
   "source": [
    "### separate chapter no., chapter name and content inside chapter"
   ]
  },
  {
   "cell_type": "code",
   "execution_count": 7,
   "metadata": {
    "ExecuteTime": {
     "end_time": "2021-03-14T14:04:50.633128Z",
     "start_time": "2021-03-14T14:04:50.557920Z"
    }
   },
   "outputs": [],
   "source": [
    "idx = paragraphs[1].find(':')      # give index of ':' in 2nd element of list of paragraphs\n",
    "chap_no = paragraphs[1][:idx]        # chapter no.\n",
    "chap_name = paragraphs[1][idx+1:]    # chapter name\n",
    "contents = paragraphs[2:-1]           # contents inside chapter"
   ]
  },
  {
   "cell_type": "markdown",
   "metadata": {},
   "source": [
    "### Json file creation"
   ]
  },
  {
   "cell_type": "code",
   "execution_count": 8,
   "metadata": {
    "ExecuteTime": {
     "end_time": "2021-03-14T14:04:50.696006Z",
     "start_time": "2021-03-14T14:04:50.637113Z"
    }
   },
   "outputs": [],
   "source": [
    "out_file = open(\"test1.json\", \"w\")    # creating json file object as write mode\n",
    "\n",
    "# dumping all the data of respose as {chaper_no. : {chapter_name : chapter_contents}}\n",
    "json_text = json.dump({chap_no : {chap_name : contents}}, out_file, indent = 4, sort_keys = False) \n",
    "\n",
    "out_file.close() # closing the writing mode"
   ]
  },
  {
   "cell_type": "markdown",
   "metadata": {},
   "source": [
    "# Apply all steps same as above over all 30 chapters iteratively"
   ]
  },
  {
   "cell_type": "markdown",
   "metadata": {},
   "source": [
    "## Method 1: separate json file for each chapter ( till 30 chapters)"
   ]
  },
  {
   "cell_type": "code",
   "execution_count": 9,
   "metadata": {
    "ExecuteTime": {
     "end_time": "2021-03-14T14:05:21.096852Z",
     "start_time": "2021-03-14T14:04:50.699997Z"
    }
   },
   "outputs": [],
   "source": [
    "for index in range(1, 31):\n",
    "    response = requests.get(\"https://novelfull.com/warriors-promise/chapter-\" + str(index) + \".html\")\n",
    "    soup = BeautifulSoup(response.content, 'html.parser')\n",
    "    \n",
    "    all_p_content = soup.findAll('p')\n",
    "    paragraphs = [str(x.text) for x in all_p_content]\n",
    "    #for i in tables:\n",
    "    #    print(i)\n",
    "    \n",
    "    idx = paragraphs[1].find(':')\n",
    "    chap_no = paragraphs[1][:idx]\n",
    "    chap_name = paragraphs[1][idx+1:]\n",
    "    contents = paragraphs[2:-1]\n",
    "    \n",
    "    json_text = json.dumps({chap_no : {chap_name : contents}})\n",
    "    with open('Chapter' + str(index) + '.json', 'w') as json_file:\n",
    "        json_file.write(json_text)"
   ]
  },
  {
   "cell_type": "markdown",
   "metadata": {},
   "source": [
    "## Method 2: all chapters in a single json file"
   ]
  },
  {
   "cell_type": "code",
   "execution_count": 10,
   "metadata": {
    "ExecuteTime": {
     "end_time": "2021-03-14T14:05:49.793806Z",
     "start_time": "2021-03-14T14:05:21.096852Z"
    }
   },
   "outputs": [],
   "source": [
    "out_file = open(\"Novel_chapter_1_to_30.json\", \"w\")       # create json file in write mode\n",
    "\n",
    "for index in range(1, 31):\n",
    "    response = requests.get(\"https://novelfull.com/warriors-promise/chapter-\" + str(index) + \".html\")\n",
    "    soup = BeautifulSoup(response.content, 'html.parser')\n",
    "    \n",
    "    all_p_content = soup.findAll('p')\n",
    "    paragraphs = [str(x.text) for x in all_p_content]\n",
    "    \n",
    "    idx = paragraphs[1].find(':')\n",
    "    chap_no = paragraphs[1][:idx]\n",
    "    chap_name = paragraphs[1][idx+1:]\n",
    "    contents = paragraphs[2:-1]\n",
    "    \n",
    "    json.dump({chap_no : {chap_name : contents}}, out_file, indent = 4, sort_keys = False)\n",
    "    \n",
    "out_file.close()"
   ]
  },
  {
   "cell_type": "code",
   "execution_count": null,
   "metadata": {},
   "outputs": [],
   "source": []
  }
 ],
 "metadata": {
  "kernelspec": {
   "display_name": "Python 3",
   "language": "python",
   "name": "python3"
  },
  "language_info": {
   "codemirror_mode": {
    "name": "ipython",
    "version": 3
   },
   "file_extension": ".py",
   "mimetype": "text/x-python",
   "name": "python",
   "nbconvert_exporter": "python",
   "pygments_lexer": "ipython3",
   "version": "3.7.6"
  }
 },
 "nbformat": 4,
 "nbformat_minor": 4
}
